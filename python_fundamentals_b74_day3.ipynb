{
 "cells": [
  {
   "cell_type": "code",
   "execution_count": 1,
   "id": "d7240fd7",
   "metadata": {},
   "outputs": [
    {
     "ename": "SyntaxError",
     "evalue": "invalid syntax (170123973.py, line 2)",
     "output_type": "error",
     "traceback": [
      "\u001b[1;36m  File \u001b[1;32m\"C:\\Users\\Rafeek\\AppData\\Local\\Temp\\ipykernel_8440\\170123973.py\"\u001b[1;36m, line \u001b[1;32m2\u001b[0m\n\u001b[1;33m    last name = 'ali'\u001b[0m\n\u001b[1;37m         ^\u001b[0m\n\u001b[1;31mSyntaxError\u001b[0m\u001b[1;31m:\u001b[0m invalid syntax\n"
     ]
    }
   ],
   "source": [
    "first_name = 'ashik'\n",
    "last name = 'ali'"
   ]
  },
  {
   "cell_type": "code",
   "execution_count": 2,
   "id": "4fbd24bd",
   "metadata": {},
   "outputs": [],
   "source": [
    "first_name = 'ashik'\n",
    "last_name = 'ali'"
   ]
  },
  {
   "cell_type": "code",
   "execution_count": 4,
   "id": "69bf05bc",
   "metadata": {},
   "outputs": [
    {
     "name": "stdout",
     "output_type": "stream",
     "text": [
      "ashik ali\n"
     ]
    }
   ],
   "source": [
    "full_name = f\"{first_name} {last_name}\"\n",
    "print(full_name)"
   ]
  },
  {
   "cell_type": "code",
   "execution_count": 5,
   "id": "ce2d258c",
   "metadata": {},
   "outputs": [
    {
     "ename": "NameError",
     "evalue": "name 'fullname' is not defined",
     "output_type": "error",
     "traceback": [
      "\u001b[1;31m---------------------------------------------------------------------------\u001b[0m",
      "\u001b[1;31mNameError\u001b[0m                                 Traceback (most recent call last)",
      "\u001b[1;32m~\\AppData\\Local\\Temp\\ipykernel_8440\\3775635441.py\u001b[0m in \u001b[0;36m<module>\u001b[1;34m\u001b[0m\n\u001b[1;32m----> 1\u001b[1;33m \u001b[0mmessage\u001b[0m \u001b[1;33m=\u001b[0m \u001b[1;34mf'Good Morning {fullname.title()}'\u001b[0m\u001b[1;33m\u001b[0m\u001b[1;33m\u001b[0m\u001b[0m\n\u001b[0m\u001b[0;32m      2\u001b[0m \u001b[0mprint\u001b[0m\u001b[1;33m(\u001b[0m\u001b[0mmessage\u001b[0m\u001b[1;33m)\u001b[0m\u001b[1;33m\u001b[0m\u001b[1;33m\u001b[0m\u001b[0m\n",
      "\u001b[1;31mNameError\u001b[0m: name 'fullname' is not defined"
     ]
    }
   ],
   "source": [
    "message = f'Good Morning {fullname.title()}'\n",
    "print(message)"
   ]
  },
  {
   "cell_type": "code",
   "execution_count": 6,
   "id": "35e96331",
   "metadata": {},
   "outputs": [
    {
     "name": "stdout",
     "output_type": "stream",
     "text": [
      "Good Morning Ashik Ali\n"
     ]
    }
   ],
   "source": [
    "message = f'Good Morning {full_name.title()}'\n",
    "print(message)"
   ]
  },
  {
   "cell_type": "code",
   "execution_count": 7,
   "id": "7fd766f0",
   "metadata": {},
   "outputs": [
    {
     "name": "stdout",
     "output_type": "stream",
     "text": [
      "fav_programming_lang:pythonJavaC++\n"
     ]
    }
   ],
   "source": [
    "print(\"fav_programming_lang:pythonJavaC++\")"
   ]
  },
  {
   "cell_type": "code",
   "execution_count": 8,
   "id": "35a7d46c",
   "metadata": {},
   "outputs": [
    {
     "name": "stdout",
     "output_type": "stream",
     "text": [
      "fav_programming_lang:\n",
      "python\n",
      "Java\n",
      "C++\n"
     ]
    }
   ],
   "source": [
    "print(\"fav_programming_lang:\\npython\\nJava\\nC++\")"
   ]
  },
  {
   "cell_type": "code",
   "execution_count": 9,
   "id": "907d1ba7",
   "metadata": {},
   "outputs": [
    {
     "name": "stdout",
     "output_type": "stream",
     "text": [
      "fav_programming_lang:\n",
      "\tpython\n",
      "\tJava\n",
      "\tC++\n"
     ]
    }
   ],
   "source": [
    "print(\"fav_programming_lang:\\n\\tpython\\n\\tJava\\n\\tC++\")"
   ]
  },
  {
   "cell_type": "code",
   "execution_count": 10,
   "id": "61c1c0c8",
   "metadata": {},
   "outputs": [
    {
     "name": "stdout",
     "output_type": "stream",
     "text": [
      "python\n"
     ]
    }
   ],
   "source": [
    "name = 'python'\n",
    "print(name)"
   ]
  },
  {
   "cell_type": "code",
   "execution_count": 11,
   "id": "3f168eb0",
   "metadata": {},
   "outputs": [
    {
     "name": "stdout",
     "output_type": "stream",
     "text": [
      "   python\n"
     ]
    }
   ],
   "source": [
    "name2 = '   python'\n",
    "print(name2)"
   ]
  },
  {
   "cell_type": "code",
   "execution_count": 12,
   "id": "10036525",
   "metadata": {},
   "outputs": [
    {
     "name": "stdout",
     "output_type": "stream",
     "text": [
      "python    \n"
     ]
    }
   ],
   "source": [
    "name3 = 'python    '\n",
    "print(name3)"
   ]
  },
  {
   "cell_type": "code",
   "execution_count": 13,
   "id": "db94a165",
   "metadata": {},
   "outputs": [
    {
     "data": {
      "text/plain": [
       "'python'"
      ]
     },
     "execution_count": 13,
     "metadata": {},
     "output_type": "execute_result"
    }
   ],
   "source": [
    "name2.lstrip()"
   ]
  },
  {
   "cell_type": "code",
   "execution_count": 14,
   "id": "dae58d40",
   "metadata": {},
   "outputs": [
    {
     "data": {
      "text/plain": [
       "'python'"
      ]
     },
     "execution_count": 14,
     "metadata": {},
     "output_type": "execute_result"
    }
   ],
   "source": [
    "name3.rstrip()"
   ]
  },
  {
   "cell_type": "code",
   "execution_count": 15,
   "id": "b2c4c7fe",
   "metadata": {},
   "outputs": [
    {
     "name": "stdout",
     "output_type": "stream",
     "text": [
      "    python    \n"
     ]
    }
   ],
   "source": [
    "name4 = '    python    '\n",
    "print(name4)"
   ]
  },
  {
   "cell_type": "code",
   "execution_count": 16,
   "id": "f4b119a5",
   "metadata": {},
   "outputs": [
    {
     "data": {
      "text/plain": [
       "'python'"
      ]
     },
     "execution_count": 16,
     "metadata": {},
     "output_type": "execute_result"
    }
   ],
   "source": [
    "name4.strip()"
   ]
  },
  {
   "cell_type": "code",
   "execution_count": null,
   "id": "dc62f781",
   "metadata": {},
   "outputs": [],
   "source": []
  }
 ],
 "metadata": {
  "kernelspec": {
   "display_name": "Python 3 (ipykernel)",
   "language": "python",
   "name": "python3"
  },
  "language_info": {
   "codemirror_mode": {
    "name": "ipython",
    "version": 3
   },
   "file_extension": ".py",
   "mimetype": "text/x-python",
   "name": "python",
   "nbconvert_exporter": "python",
   "pygments_lexer": "ipython3",
   "version": "3.9.13"
  }
 },
 "nbformat": 4,
 "nbformat_minor": 5
}
