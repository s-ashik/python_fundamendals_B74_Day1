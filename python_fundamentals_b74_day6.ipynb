{
 "cells": [
  {
   "cell_type": "code",
   "execution_count": null,
   "id": "0938c6bd",
   "metadata": {},
   "outputs": [],
   "source": [
    "Format :\n",
    "    for temp_var in main_var:\n",
    "        print(temp_var)"
   ]
  },
  {
   "cell_type": "code",
   "execution_count": 1,
   "id": "79a17689",
   "metadata": {},
   "outputs": [],
   "source": [
    "students = ['sunil','naveen','abdul','sneha','ram','arul']"
   ]
  },
  {
   "cell_type": "code",
   "execution_count": 2,
   "id": "258bfd7a",
   "metadata": {},
   "outputs": [
    {
     "name": "stdout",
     "output_type": "stream",
     "text": [
      "['sunil', 'naveen', 'abdul', 'sneha', 'ram', 'arul']\n"
     ]
    }
   ],
   "source": [
    "print(students)"
   ]
  },
  {
   "cell_type": "code",
   "execution_count": 3,
   "id": "6c97cf63",
   "metadata": {},
   "outputs": [
    {
     "data": {
      "text/plain": [
       "list"
      ]
     },
     "execution_count": 3,
     "metadata": {},
     "output_type": "execute_result"
    }
   ],
   "source": [
    "type(students)"
   ]
  },
  {
   "cell_type": "code",
   "execution_count": 4,
   "id": "d7686f9b",
   "metadata": {},
   "outputs": [
    {
     "name": "stdout",
     "output_type": "stream",
     "text": [
      "keep up the good work, Sunil\n"
     ]
    }
   ],
   "source": [
    "print(f\"keep up the good work, {students[0].title()}\")"
   ]
  },
  {
   "cell_type": "code",
   "execution_count": 5,
   "id": "1340559a",
   "metadata": {},
   "outputs": [
    {
     "name": "stdout",
     "output_type": "stream",
     "text": [
      "keep up the good work, Naveen\n"
     ]
    }
   ],
   "source": [
    "print(f\"keep up the good work, {students[1].title()}\")"
   ]
  },
  {
   "cell_type": "code",
   "execution_count": 6,
   "id": "b12a9cce",
   "metadata": {},
   "outputs": [
    {
     "name": "stdout",
     "output_type": "stream",
     "text": [
      "Keep up the good work, Sunil\n",
      "Keep up the good work, Naveen\n",
      "Keep up the good work, Abdul\n",
      "Keep up the good work, Sneha\n",
      "Keep up the good work, Ram\n",
      "Keep up the good work, Arul\n"
     ]
    }
   ],
   "source": [
    "for x in students:\n",
    "    print(f\"Keep up the good work, {x.title()}\")"
   ]
  },
  {
   "cell_type": "code",
   "execution_count": 7,
   "id": "fbf8b43e",
   "metadata": {},
   "outputs": [
    {
     "name": "stdout",
     "output_type": "stream",
     "text": [
      "sunil\n",
      "naveen\n",
      "abdul\n",
      "sneha\n",
      "ram\n",
      "arul\n"
     ]
    }
   ],
   "source": [
    "for a in students:\n",
    "    print(a)"
   ]
  },
  {
   "cell_type": "code",
   "execution_count": 8,
   "id": "69e5aa3b",
   "metadata": {},
   "outputs": [
    {
     "name": "stdout",
     "output_type": "stream",
     "text": [
      "Keep up the good work, Sunil\n",
      "I will expect your submission, Sunil\n",
      "Keep up the good work, Naveen\n",
      "I will expect your submission, Naveen\n",
      "Keep up the good work, Abdul\n",
      "I will expect your submission, Abdul\n",
      "Keep up the good work, Sneha\n",
      "I will expect your submission, Sneha\n",
      "Keep up the good work, Ram\n",
      "I will expect your submission, Ram\n",
      "Keep up the good work, Arul\n",
      "I will expect your submission, Arul\n"
     ]
    }
   ],
   "source": [
    "for x in students:\n",
    "    print(f\"Keep up the good work, {x.title()}\")\n",
    "    print(f\"I will expect your submission, {x.title()}\")"
   ]
  },
  {
   "cell_type": "code",
   "execution_count": 9,
   "id": "af0ecfaf",
   "metadata": {},
   "outputs": [
    {
     "ename": "SyntaxError",
     "evalue": "EOL while scanning string literal (1449636526.py, line 2)",
     "output_type": "error",
     "traceback": [
      "\u001b[1;36m  File \u001b[1;32m\"C:\\Users\\Rafeek\\AppData\\Local\\Temp\\ipykernel_6724\\1449636526.py\"\u001b[1;36m, line \u001b[1;32m2\u001b[0m\n\u001b[1;33m    print(f\"Keep up the good work, {x.title()})\u001b[0m\n\u001b[1;37m                                               ^\u001b[0m\n\u001b[1;31mSyntaxError\u001b[0m\u001b[1;31m:\u001b[0m EOL while scanning string literal\n"
     ]
    }
   ],
   "source": [
    "for x in students:\n",
    "    print(f\"Keep up the good work, {x.title()})\n",
    "    print(f\"I will expect your submission, {x.title()}\\n\")"
   ]
  },
  {
   "cell_type": "code",
   "execution_count": 10,
   "id": "63a584ed",
   "metadata": {},
   "outputs": [
    {
     "name": "stdout",
     "output_type": "stream",
     "text": [
      "Keep up the good work, Sunil\n",
      "I will expect your submission, Sunil\n",
      "\n",
      "Keep up the good work, Naveen\n",
      "I will expect your submission, Naveen\n",
      "\n",
      "Keep up the good work, Abdul\n",
      "I will expect your submission, Abdul\n",
      "\n",
      "Keep up the good work, Sneha\n",
      "I will expect your submission, Sneha\n",
      "\n",
      "Keep up the good work, Ram\n",
      "I will expect your submission, Ram\n",
      "\n",
      "Keep up the good work, Arul\n",
      "I will expect your submission, Arul\n",
      "\n"
     ]
    }
   ],
   "source": [
    "for x in students:\n",
    "    print(f\"Keep up the good work, {x.title()}\")\n",
    "    print(f\"I will expect your submission, {x.title()}\\n\")"
   ]
  },
  {
   "cell_type": "code",
   "execution_count": null,
   "id": "3fa82df7",
   "metadata": {},
   "outputs": [],
   "source": []
  }
 ],
 "metadata": {
  "kernelspec": {
   "display_name": "Python 3 (ipykernel)",
   "language": "python",
   "name": "python3"
  },
  "language_info": {
   "codemirror_mode": {
    "name": "ipython",
    "version": 3
   },
   "file_extension": ".py",
   "mimetype": "text/x-python",
   "name": "python",
   "nbconvert_exporter": "python",
   "pygments_lexer": "ipython3",
   "version": "3.9.13"
  }
 },
 "nbformat": 4,
 "nbformat_minor": 5
}
